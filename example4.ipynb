{
 "cells": [
  {
   "cell_type": "markdown",
   "id": "ae55e7dd",
   "metadata": {},
   "source": [
    "Social network metrics"
   ]
  },
  {
   "cell_type": "code",
   "execution_count": 22,
   "id": "88397ad0",
   "metadata": {},
   "outputs": [],
   "source": [
    "import numpy as np\n",
    "import pandas as pd\n",
    "import matplotlib.pyplot as plt\n",
    "import seaborn as sns\n",
    "import openpyxl\n",
    "from sklearn.model_selection import train_test_split\n",
    "from sklearn.preprocessing import StandardScaler\n"
   ]
  },
  {
   "cell_type": "code",
   "execution_count": 23,
   "id": "f2070e92",
   "metadata": {},
   "outputs": [
    {
     "data": {
      "text/html": [
       "<div>\n",
       "<style scoped>\n",
       "    .dataframe tbody tr th:only-of-type {\n",
       "        vertical-align: middle;\n",
       "    }\n",
       "\n",
       "    .dataframe tbody tr th {\n",
       "        vertical-align: top;\n",
       "    }\n",
       "\n",
       "    .dataframe thead th {\n",
       "        text-align: right;\n",
       "    }\n",
       "</style>\n",
       "<table border=\"1\" class=\"dataframe\">\n",
       "  <thead>\n",
       "    <tr style=\"text-align: right;\">\n",
       "      <th></th>\n",
       "      <th>Vertices</th>\n",
       "      <th>Degree</th>\n",
       "      <th>Clustering</th>\n",
       "      <th>Class</th>\n",
       "    </tr>\n",
       "  </thead>\n",
       "  <tbody>\n",
       "    <tr>\n",
       "      <th>0</th>\n",
       "      <td>n85004928</td>\n",
       "      <td>1</td>\n",
       "      <td>0.000000</td>\n",
       "      <td>0</td>\n",
       "    </tr>\n",
       "    <tr>\n",
       "      <th>1</th>\n",
       "      <td>n85004929</td>\n",
       "      <td>7</td>\n",
       "      <td>0.261905</td>\n",
       "      <td>3</td>\n",
       "    </tr>\n",
       "    <tr>\n",
       "      <th>2</th>\n",
       "      <td>n85008101</td>\n",
       "      <td>5</td>\n",
       "      <td>0.200000</td>\n",
       "      <td>2</td>\n",
       "    </tr>\n",
       "    <tr>\n",
       "      <th>3</th>\n",
       "      <td>n85021444</td>\n",
       "      <td>5</td>\n",
       "      <td>0.200000</td>\n",
       "      <td>2</td>\n",
       "    </tr>\n",
       "    <tr>\n",
       "      <th>4</th>\n",
       "      <td>n85004930</td>\n",
       "      <td>1</td>\n",
       "      <td>0.000000</td>\n",
       "      <td>0</td>\n",
       "    </tr>\n",
       "  </tbody>\n",
       "</table>\n",
       "</div>"
      ],
      "text/plain": [
       "    Vertices  Degree  Clustering  Class\n",
       "0  n85004928       1    0.000000      0\n",
       "1  n85004929       7    0.261905      3\n",
       "2  n85008101       5    0.200000      2\n",
       "3  n85021444       5    0.200000      2\n",
       "4  n85004930       1    0.000000      0"
      ]
     },
     "execution_count": 23,
     "metadata": {},
     "output_type": "execute_result"
    }
   ],
   "source": [
    "social = pd.read_csv('degree.csv',encoding='utf-8')\n",
    "social.head()"
   ]
  },
  {
   "cell_type": "code",
   "execution_count": 24,
   "id": "a119675b",
   "metadata": {},
   "outputs": [],
   "source": [
    "social.drop(['Vertices'],axis = 1,inplace = True)\n"
   ]
  },
  {
   "cell_type": "code",
   "execution_count": 25,
   "id": "5c94eda5",
   "metadata": {},
   "outputs": [
    {
     "name": "stdout",
     "output_type": "stream",
     "text": [
      "              Degree     Clustering          Class\n",
      "count  535890.000000  535890.000000  535890.000000\n",
      "mean        2.775999       0.004179       0.616186\n",
      "std        52.062979       0.040359       0.994757\n",
      "min         1.000000       0.000000       0.000000\n",
      "25%         1.000000       0.000000       0.000000\n",
      "50%         1.000000       0.000000       0.000000\n",
      "75%         2.000000       0.000000       1.000000\n",
      "max     35358.000000       1.000000       4.000000\n",
      "535890\n"
     ]
    }
   ],
   "source": [
    "print(social.describe())\n",
    "total_sample=social.shape[0]\n",
    "print(total_sample)"
   ]
  },
  {
   "cell_type": "code",
   "execution_count": 26,
   "id": "e8d5d709",
   "metadata": {},
   "outputs": [],
   "source": [
    "X = social.iloc[:,0:2].values\n",
    "Y = social['Class'].values\n",
    "X_train,X_test,Y_train,Y_test = train_test_split(X,Y,test_size =.25)\n",
    "X_traino=X_train\n",
    "X_testo=X_test"
   ]
  },
  {
   "cell_type": "code",
   "execution_count": 27,
   "id": "d0a4e335",
   "metadata": {},
   "outputs": [
    {
     "data": {
      "text/plain": [
       "(401917, 2)"
      ]
     },
     "execution_count": 27,
     "metadata": {},
     "output_type": "execute_result"
    }
   ],
   "source": [
    "X_train.shape"
   ]
  },
  {
   "cell_type": "code",
   "execution_count": 28,
   "id": "3a66ae52",
   "metadata": {},
   "outputs": [
    {
     "data": {
      "text/plain": [
       "(133973, 2)"
      ]
     },
     "execution_count": 28,
     "metadata": {},
     "output_type": "execute_result"
    }
   ],
   "source": [
    "X_test.shape"
   ]
  },
  {
   "cell_type": "code",
   "execution_count": 29,
   "id": "6d6f19a2",
   "metadata": {},
   "outputs": [],
   "source": [
    "stdscaler = StandardScaler()\n",
    "X_train = stdscaler.fit_transform(X_train)\n",
    "X_test = stdscaler.transform(X_test)"
   ]
  },
  {
   "cell_type": "code",
   "execution_count": 30,
   "id": "3b95621c",
   "metadata": {},
   "outputs": [
    {
     "data": {
      "text/html": [
       "<style>#sk-container-id-2 {color: black;background-color: white;}#sk-container-id-2 pre{padding: 0;}#sk-container-id-2 div.sk-toggleable {background-color: white;}#sk-container-id-2 label.sk-toggleable__label {cursor: pointer;display: block;width: 100%;margin-bottom: 0;padding: 0.3em;box-sizing: border-box;text-align: center;}#sk-container-id-2 label.sk-toggleable__label-arrow:before {content: \"▸\";float: left;margin-right: 0.25em;color: #696969;}#sk-container-id-2 label.sk-toggleable__label-arrow:hover:before {color: black;}#sk-container-id-2 div.sk-estimator:hover label.sk-toggleable__label-arrow:before {color: black;}#sk-container-id-2 div.sk-toggleable__content {max-height: 0;max-width: 0;overflow: hidden;text-align: left;background-color: #f0f8ff;}#sk-container-id-2 div.sk-toggleable__content pre {margin: 0.2em;color: black;border-radius: 0.25em;background-color: #f0f8ff;}#sk-container-id-2 input.sk-toggleable__control:checked~div.sk-toggleable__content {max-height: 200px;max-width: 100%;overflow: auto;}#sk-container-id-2 input.sk-toggleable__control:checked~label.sk-toggleable__label-arrow:before {content: \"▾\";}#sk-container-id-2 div.sk-estimator input.sk-toggleable__control:checked~label.sk-toggleable__label {background-color: #d4ebff;}#sk-container-id-2 div.sk-label input.sk-toggleable__control:checked~label.sk-toggleable__label {background-color: #d4ebff;}#sk-container-id-2 input.sk-hidden--visually {border: 0;clip: rect(1px 1px 1px 1px);clip: rect(1px, 1px, 1px, 1px);height: 1px;margin: -1px;overflow: hidden;padding: 0;position: absolute;width: 1px;}#sk-container-id-2 div.sk-estimator {font-family: monospace;background-color: #f0f8ff;border: 1px dotted black;border-radius: 0.25em;box-sizing: border-box;margin-bottom: 0.5em;}#sk-container-id-2 div.sk-estimator:hover {background-color: #d4ebff;}#sk-container-id-2 div.sk-parallel-item::after {content: \"\";width: 100%;border-bottom: 1px solid gray;flex-grow: 1;}#sk-container-id-2 div.sk-label:hover label.sk-toggleable__label {background-color: #d4ebff;}#sk-container-id-2 div.sk-serial::before {content: \"\";position: absolute;border-left: 1px solid gray;box-sizing: border-box;top: 0;bottom: 0;left: 50%;z-index: 0;}#sk-container-id-2 div.sk-serial {display: flex;flex-direction: column;align-items: center;background-color: white;padding-right: 0.2em;padding-left: 0.2em;position: relative;}#sk-container-id-2 div.sk-item {position: relative;z-index: 1;}#sk-container-id-2 div.sk-parallel {display: flex;align-items: stretch;justify-content: center;background-color: white;position: relative;}#sk-container-id-2 div.sk-item::before, #sk-container-id-2 div.sk-parallel-item::before {content: \"\";position: absolute;border-left: 1px solid gray;box-sizing: border-box;top: 0;bottom: 0;left: 50%;z-index: -1;}#sk-container-id-2 div.sk-parallel-item {display: flex;flex-direction: column;z-index: 1;position: relative;background-color: white;}#sk-container-id-2 div.sk-parallel-item:first-child::after {align-self: flex-end;width: 50%;}#sk-container-id-2 div.sk-parallel-item:last-child::after {align-self: flex-start;width: 50%;}#sk-container-id-2 div.sk-parallel-item:only-child::after {width: 0;}#sk-container-id-2 div.sk-dashed-wrapped {border: 1px dashed gray;margin: 0 0.4em 0.5em 0.4em;box-sizing: border-box;padding-bottom: 0.4em;background-color: white;}#sk-container-id-2 div.sk-label label {font-family: monospace;font-weight: bold;display: inline-block;line-height: 1.2em;}#sk-container-id-2 div.sk-label-container {text-align: center;}#sk-container-id-2 div.sk-container {/* jupyter's `normalize.less` sets `[hidden] { display: none; }` but bootstrap.min.css set `[hidden] { display: none !important; }` so we also need the `!important` here to be able to override the default hidden behavior on the sphinx rendered scikit-learn.org. See: https://github.com/scikit-learn/scikit-learn/issues/21755 */display: inline-block !important;position: relative;}#sk-container-id-2 div.sk-text-repr-fallback {display: none;}</style><div id=\"sk-container-id-2\" class=\"sk-top-container\"><div class=\"sk-text-repr-fallback\"><pre>GaussianNB()</pre><b>In a Jupyter environment, please rerun this cell to show the HTML representation or trust the notebook. <br />On GitHub, the HTML representation is unable to render, please try loading this page with nbviewer.org.</b></div><div class=\"sk-container\" hidden><div class=\"sk-item\"><div class=\"sk-estimator sk-toggleable\"><input class=\"sk-toggleable__control sk-hidden--visually\" id=\"sk-estimator-id-2\" type=\"checkbox\" checked><label for=\"sk-estimator-id-2\" class=\"sk-toggleable__label sk-toggleable__label-arrow\">GaussianNB</label><div class=\"sk-toggleable__content\"><pre>GaussianNB()</pre></div></div></div></div></div>"
      ],
      "text/plain": [
       "GaussianNB()"
      ]
     },
     "execution_count": 30,
     "metadata": {},
     "output_type": "execute_result"
    }
   ],
   "source": [
    "from sklearn.naive_bayes import GaussianNB\n",
    "clf = GaussianNB()\n",
    "clf.fit(X_train,Y_train)"
   ]
  },
  {
   "cell_type": "code",
   "execution_count": 31,
   "id": "de186951",
   "metadata": {},
   "outputs": [],
   "source": [
    "y_pred = clf.predict(X_test)\n",
    "y_predproba=clf.predict_proba(X_test)\n",
    "y_predprobatrain=clf.predict_proba(X_train)"
   ]
  },
  {
   "cell_type": "code",
   "execution_count": 32,
   "id": "377247e8",
   "metadata": {},
   "outputs": [],
   "source": [
    "from sklearn.metrics import confusion_matrix,accuracy_score\n",
    "cm = confusion_matrix(Y_test, y_pred)\n"
   ]
  },
  {
   "cell_type": "code",
   "execution_count": 33,
   "id": "9a0916fd",
   "metadata": {},
   "outputs": [
    {
     "name": "stdout",
     "output_type": "stream",
     "text": [
      "[[84595     0     0     0     0]\n",
      " [    0 29589     0     0     0]\n",
      " [    0   170 10161     0     0]\n",
      " [    0     0    53  5643     0]\n",
      " [    0     0     0   500  3262]]\n"
     ]
    }
   ],
   "source": [
    "print(cm)"
   ]
  },
  {
   "cell_type": "code",
   "execution_count": 34,
   "id": "b7146004",
   "metadata": {},
   "outputs": [
    {
     "name": "stdout",
     "output_type": "stream",
     "text": [
      "0.9946033902353459\n"
     ]
    }
   ],
   "source": [
    "print(accuracy_score(Y_test, y_pred))"
   ]
  },
  {
   "cell_type": "code",
   "execution_count": 39,
   "id": "8e0616a4",
   "metadata": {},
   "outputs": [
    {
     "name": "stdout",
     "output_type": "stream",
     "text": [
      "Classification Report: \n",
      "              precision    recall  f1-score   support\n",
      "\n",
      "           0      1.000     1.000     1.000     84595\n",
      "           1      0.994     1.000     0.997     29589\n",
      "           2      0.995     0.984     0.989     10331\n",
      "           3      0.919     0.991     0.953      5696\n",
      "           4      1.000     0.867     0.929      3762\n",
      "\n",
      "    accuracy                          0.995    133973\n",
      "   macro avg      0.982     0.968     0.974    133973\n",
      "weighted avg      0.995     0.995     0.995    133973\n",
      "\n"
     ]
    }
   ],
   "source": [
    "from sklearn.metrics import classification_report\n",
    "print(f'Classification Report: \\n{classification_report(Y_test, y_pred,digits=3)}')"
   ]
  },
  {
   "cell_type": "code",
   "execution_count": 36,
   "id": "10783795",
   "metadata": {},
   "outputs": [
    {
     "name": "stdout",
     "output_type": "stream",
     "text": [
      "['Degree', 'Clustering', 'Class']\n"
     ]
    }
   ],
   "source": [
    "output_column=social.columns.values.tolist()\n",
    "print(output_column)"
   ]
  },
  {
   "cell_type": "code",
   "execution_count": 37,
   "id": "98ca7128",
   "metadata": {},
   "outputs": [],
   "source": [
    "import openpyxl\n",
    "wb=openpyxl.Workbook()\n",
    "s1=wb.active\n",
    "\n",
    "s1['A1']=output_column[0]\n",
    "s1['B1']=output_column[1]\n",
    "s1['C1']='posterior probability'\n",
    "s1['D1']='class'\n",
    "wb.save('outputsocial.xlsx')"
   ]
  },
  {
   "cell_type": "code",
   "execution_count": 38,
   "id": "56dfb79b",
   "metadata": {},
   "outputs": [
    {
     "name": "stdout",
     "output_type": "stream",
     "text": [
      "0.02855809960999459\n"
     ]
    }
   ],
   "source": [
    "traintotal=X_train.shape[0]\n",
    "yp=[]\n",
    "xp=[]\n",
    "nclass=4\n",
    "c3class=0\n",
    "\n",
    "workbook=openpyxl.load_workbook('outputsocial.xlsx')\n",
    "sheet=workbook.active\n",
    "for i in range(traintotal):\n",
    "    if(Y_train[i]==nclass):\n",
    "        c3class += 1\n",
    "        yp.append(y_predprobatrain[i,nclass])\n",
    "        xp.append(X_traino[i,:])\n",
    "\n",
    "testtotal=X_test.shape[0]\n",
    "\n",
    "for i in range(testtotal):\n",
    "    if(Y_test[i]==nclass):\n",
    "        c3class += 1\n",
    "        yp.append(y_predproba[i,nclass])\n",
    "        xp.append(X_testo[i,:])\n",
    "\n",
    "print(c3class/total_sample)\n",
    "C=75\n",
    "ci_upper=np.percentile(yp,100-(100-C)*0.5)\n",
    "ci_lower=np.percentile(yp,(100-C)*0.5)\n",
    "ppc=c3class/total_sample\n",
    "cxlower=35.01\n",
    "j=2\n",
    "for k in range(len(yp)):\n",
    "    if(ci_lower<=yp[k]<=ci_upper):\n",
    "        if(yp[k]*1./ppc>=cxlower):\n",
    "            sheet.cell(j,1).value=xp[k][0]\n",
    "            sheet.cell(j,2).value=xp[k][1]\n",
    "            sheet.cell(j,3).value=yp[k]\n",
    "            sheet.cell(j,4).value=nclass\n",
    "            j+=1\n",
    "        \n",
    "workbook.save('outputsocial.xlsx')"
   ]
  },
  {
   "cell_type": "code",
   "execution_count": null,
   "id": "48d3a96a",
   "metadata": {},
   "outputs": [],
   "source": []
  }
 ],
 "metadata": {
  "kernelspec": {
   "display_name": "Python 3 (ipykernel)",
   "language": "python",
   "name": "python3"
  },
  "language_info": {
   "codemirror_mode": {
    "name": "ipython",
    "version": 3
   },
   "file_extension": ".py",
   "mimetype": "text/x-python",
   "name": "python",
   "nbconvert_exporter": "python",
   "pygments_lexer": "ipython3",
   "version": "3.11.3"
  }
 },
 "nbformat": 4,
 "nbformat_minor": 5
}
